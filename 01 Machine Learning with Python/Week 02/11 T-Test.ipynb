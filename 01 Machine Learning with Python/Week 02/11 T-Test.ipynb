{
 "cells": [
  {
   "cell_type": "code",
   "execution_count": 1,
   "metadata": {},
   "outputs": [],
   "source": [
    "import numpy as np\n",
    "import matplotlib.pyplot as plt\n",
    "from scipy import stats"
   ]
  },
  {
   "cell_type": "code",
   "execution_count": 4,
   "metadata": {},
   "outputs": [
    {
     "data": {
      "image/png": "[encoded data removed]",
      "text/plain": [
       "<Figure size 640x480 with 2 Axes>"
      ]
     },
     "metadata": {},
     "output_type": "display_data"
    }
   ],
   "source": [
    "score1 = np.array([12, 11, 4, 3, 7, 14, 9, 8, 13, 6])\n",
    "\n",
    "plt.subplot(2, 1, 1)\n",
    "plt.hist(score1, bins=15, color='r');\n",
    "\n",
    "score2 = np.array([17, 16, 12, 6, 18, 20, 19, 17, 15, 16])\n",
    "plt.subplot(2, 1, 2)\n",
    "plt.hist(score2, bins=15);"
   ]
  },
  {
   "cell_type": "code",
   "execution_count": 5,
   "metadata": {},
   "outputs": [
    {
     "data": {
      "text/plain": [
       "Ttest_indResult(statistic=-3.950928506765691, pvalue=0.0009368378292774322)"
      ]
     },
     "execution_count": 5,
     "metadata": {},
     "output_type": "execute_result"
    }
   ],
   "source": [
    "stats.ttest_ind(score1, score2)   # p-value shows that the two distributions are not identical."
   ]
  },
  {
   "cell_type": "markdown",
   "metadata": {},
   "source": [
    "### Anova\n",
    "ANOVA is a statistical method used to test differences between two or more means."
   ]
  },
  {
   "cell_type": "code",
   "execution_count": 6,
   "metadata": {},
   "outputs": [],
   "source": [
    "country1 = np.array([176., 179., 180., 188., 187., 184., 171., 201., 172.,\n",
    "                     181., 192., 187., 178., 178., 180., 199., 185., 176.,\n",
    "                     207., 177., 160., 174., 176., 192., 189., 187., 183.,\n",
    "                     180., 181., 200., 190., 187., 175., 179., 181., 183.,\n",
    "                     171., 181., 190., 186., 185., 188., 201., 192., 188.,\n",
    "                     181., 172., 191., 201., 170., 170., 192., 185., 167.,\n",
    "                     178., 179., 167., 183., 200., 185.])\n",
    "\n",
    "country2 = np.array([ 177., 165., 175., 172., 179., 192., 169., 185., 187.,\n",
    "                      167., 162., 165., 188., 194., 187., 175., 163., 178.,\n",
    "                      197., 172., 175., 185., 176., 171., 172., 186., 168.,\n",
    "                      178., 191., 192., 175., 189., 178., 181., 170., 182.,\n",
    "                      166., 189., 196., 192., 189., 171., 185., 198., 181.,\n",
    "                      167., 184., 179., 178., 193., 179., 177., 181., 174.,\n",
    "                      171., 184., 156., 180., 181., 187.])\n",
    "\n",
    "country3 = np.array([191., 190., 191., 185., 190., 184., 173., 175., 200.,\n",
    "                     190., 191., 184., 167., 194., 195., 174., 171., 191.,\n",
    "                     174., 177., 182., 184., 176., 180., 181., 186., 179.,\n",
    "                     176., 186., 176., 184., 194., 179., 171., 174., 174.,\n",
    "                     182., 198., 180., 178., 200., 200., 174., 202., 176.,\n",
    "                     180., 163., 159., 194., 192., 163., 194., 183., 190.,\n",
    "                     186., 178., 182., 174., 178., 182.])"
   ]
  },
  {
   "cell_type": "code",
   "execution_count": 7,
   "metadata": {},
   "outputs": [
    {
     "data": {
      "text/plain": [
       "F_onewayResult(statistic=2.9852039682643414, pvalue=0.05307967881268609)"
      ]
     },
     "execution_count": 7,
     "metadata": {},
     "output_type": "execute_result"
    }
   ],
   "source": [
    "stats.f_oneway(country1, country2, country3)"
   ]
  },
  {
   "cell_type": "markdown",
   "metadata": {},
   "source": [
    "p-value > 5%: mean of the heights in the three countries is not significantly different from each other."
   ]
  },
  {
   "cell_type": "code",
   "execution_count": null,
   "metadata": {},
   "outputs": [],
   "source": []
  }
 ],
 "metadata": {
  "kernelspec": {
   "display_name": "Python 3",
   "language": "python",
   "name": "python3"
  },
  "language_info": {
   "codemirror_mode": {
    "name": "ipython",
    "version": 3
   },
   "file_extension": ".py",
   "mimetype": "text/x-python",
   "name": "python",
   "nbconvert_exporter": "python",
   "pygments_lexer": "ipython3",
   "version": "3.10.13"
  }
 },
 "nbformat": 4,
 "nbformat_minor": 2
}
